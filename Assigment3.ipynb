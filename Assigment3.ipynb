{
 "cells": [
  {
   "cell_type": "code",
   "execution_count": 4,
   "metadata": {},
   "outputs": [
    {
     "name": "stdout",
     "output_type": "stream",
     "text": [
      "Enter plane altitude:10001\n",
      "go around and try\n"
     ]
    }
   ],
   "source": [
    "altitude  = int(input(\"Enter plane altitude:\"))\n",
    "if altitude <= 1000:\n",
    "    print(\"Please land the plane\")\n",
    "elif altitude > 1000 and altitude < 5000 :\n",
    "     print(\"come down to 1000ft\")\n",
    "else:\n",
    "    print(\"go around and try\")"
   ]
  },
  {
   "cell_type": "code",
   "execution_count": null,
   "metadata": {},
   "outputs": [],
   "source": []
  }
 ],
 "metadata": {
  "kernelspec": {
   "display_name": "Python 3",
   "language": "python",
   "name": "python3"
  },
  "language_info": {
   "codemirror_mode": {
    "name": "ipython",
    "version": 3
   },
   "file_extension": ".py",
   "mimetype": "text/x-python",
   "name": "python",
   "nbconvert_exporter": "python",
   "pygments_lexer": "ipython3",
   "version": "3.7.3"
  }
 },
 "nbformat": 4,
 "nbformat_minor": 2
}
